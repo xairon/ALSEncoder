{
 "cells": [
  {
   "cell_type": "code",
   "execution_count": 6,
   "metadata": {},
   "outputs": [],
   "source": [
    "import torch\n",
    "import torch.nn as nn\n"
   ]
  },
  {
   "cell_type": "code",
   "execution_count": 8,
   "metadata": {},
   "outputs": [],
   "source": [
    "class MPT(nn.Module):\n",
    "    def __init__(self,vocab_size,e):\n",
    "        super(MPT,self).__init__()\n",
    "        self.feature=nn.Embedding(vocab_size,e)\n",
    "        self.timestamp = nn.linear(1,e)\n",
    "        self.value = nn.linear(1,e)\n",
    "        self.encoder = nn.TransformerEncoder(nn.TransformerEncoderLayer(nhead=8,d_model=e),num_layers =4)\n",
    "    def forward(self,feature,value,timestamp):\n",
    "        _feature= self.feature(feature)\n",
    "        _timestamp= self.timestamp(timestamp)\n",
    "        _value= self.value(value)\n",
    "        x = _feature+_value+_timestamp\n",
    "        return self.encoder(x)\n"
   ]
  },
  {
   "cell_type": "code",
   "execution_count": null,
   "metadata": {},
   "outputs": [],
   "source": [
    "#loss = ...\n",
    "model = MPT(512)\n",
    "out = model(f,v,t)\n",
    "#P = loss(out,y)\n",
    "#P.backward()\n"
   ]
  },
  {
   "cell_type": "code",
   "execution_count": 9,
   "metadata": {},
   "outputs": [],
   "source": [
    "import pandas as pd"
   ]
  },
  {
   "cell_type": "code",
   "execution_count": null,
   "metadata": {},
   "outputs": [],
   "source": [
    "df = pd.read_csv()"
   ]
  }
 ],
 "metadata": {
  "kernelspec": {
   "display_name": "Python 3.9.13 64-bit (microsoft store)",
   "language": "python",
   "name": "python3"
  },
  "language_info": {
   "codemirror_mode": {
    "name": "ipython",
    "version": 3
   },
   "file_extension": ".py",
   "mimetype": "text/x-python",
   "name": "python",
   "nbconvert_exporter": "python",
   "pygments_lexer": "ipython3",
   "version": "3.9.13"
  },
  "orig_nbformat": 4,
  "vscode": {
   "interpreter": {
    "hash": "e414a0fdfb09aafc4cc74cd5120d3e3d22191b60104af0a254b5a3ba4b1b2537"
   }
  }
 },
 "nbformat": 4,
 "nbformat_minor": 2
}
