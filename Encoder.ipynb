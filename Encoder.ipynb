{
 "cells": [
  {
   "cell_type": "code",
   "execution_count": 15,
   "metadata": {},
   "outputs": [
    {
     "name": "stderr",
     "output_type": "stream",
     "text": [
      "C:\\Users\\Iqbal\\AppData\\Local\\Packages\\PythonSoftwareFoundation.Python.3.9_qbz5n2kfra8p0\\LocalCache\\local-packages\\Python39\\site-packages\\tqdm\\auto.py:22: TqdmWarning: IProgress not found. Please update jupyter and ipywidgets. See https://ipywidgets.readthedocs.io/en/stable/user_install.html\n",
      "  from .autonotebook import tqdm as notebook_tqdm\n"
     ]
    }
   ],
   "source": [
    "import torch\n",
    "import torch.nn as nn\n"
   ]
  },
  {
   "cell_type": "code",
   "execution_count": 17,
   "metadata": {},
   "outputs": [],
   "source": [
    "class MPT(nn.Module):\n",
    "    def __init__(self,vocab_size,e):\n",
    "        super(MPT,self).__init__()\n",
    "        self.feature=nn.Embedding(vocab_size,e)\n",
    "        self.timestamp = nn.linear(1,e)\n",
    "        self.value = nn.linear(1,e)\n",
    "        self.encoder = nn.TransformerEncoder(nn.TransformerEncoderLayer(nhead=8,d_model=e),num_layers =4)\n",
    "    def forward(self,feature,value,timestamp):\n",
    "        _feature= self.feature(feature)\n",
    "        _timestamp= self.timestamp(timestamp)\n",
    "        _value= self.value(value)\n",
    "        x = _feature+_value+_timestamp\n",
    "        return self.encoder(x)\n"
   ]
  },
  {
   "cell_type": "code",
   "execution_count": 18,
   "metadata": {},
   "outputs": [
    {
     "ename": "TypeError",
     "evalue": "__init__() missing 1 required positional argument: 'e'",
     "output_type": "error",
     "traceback": [
      "\u001b[1;31m---------------------------------------------------------------------------\u001b[0m",
      "\u001b[1;31mTypeError\u001b[0m                                 Traceback (most recent call last)",
      "Cell \u001b[1;32mIn[18], line 2\u001b[0m\n\u001b[0;32m      1\u001b[0m \u001b[39m#loss = ...\u001b[39;00m\n\u001b[1;32m----> 2\u001b[0m model \u001b[39m=\u001b[39m MPT(\u001b[39m512\u001b[39;49m)\n\u001b[0;32m      3\u001b[0m out \u001b[39m=\u001b[39m model(f,v,t)\n\u001b[0;32m      4\u001b[0m \u001b[39m#P = loss(out,y)\u001b[39;00m\n\u001b[0;32m      5\u001b[0m \u001b[39m#P.backward()\u001b[39;00m\n",
      "\u001b[1;31mTypeError\u001b[0m: __init__() missing 1 required positional argument: 'e'"
     ]
    }
   ],
   "source": [
    "#loss = ...\n",
    "model = MPT(512)\n",
    "out = model(f,v,t)\n",
    "#P = loss(out,y)\n",
    "#P.backward()\n"
   ]
  },
  {
   "cell_type": "code",
   "execution_count": 19,
   "metadata": {},
   "outputs": [],
   "source": [
    "import pandas as pd"
   ]
  },
  {
   "cell_type": "code",
   "execution_count": 48,
   "metadata": {},
   "outputs": [],
   "source": [
    "df = pd.read_csv(\"full_data_encoder.csv\", encoding='utf8')"
   ]
  },
  {
   "cell_type": "code",
   "execution_count": 49,
   "metadata": {},
   "outputs": [],
   "source": [
    "len_max = df.groupby(\"ID\").count().sort_values(by=['timestamp'],ascending=False)[\"timestamp\"].max()"
   ]
  },
  {
   "cell_type": "code",
   "execution_count": 50,
   "metadata": {},
   "outputs": [
    {
     "data": {
      "text/plain": [
       "98"
      ]
     },
     "execution_count": 50,
     "metadata": {},
     "output_type": "execute_result"
    }
   ],
   "source": [
    "len_max"
   ]
  },
  {
   "cell_type": "code",
   "execution_count": 51,
   "metadata": {},
   "outputs": [
    {
     "data": {
      "text/html": [
       "<div>\n",
       "<style scoped>\n",
       "    .dataframe tbody tr th:only-of-type {\n",
       "        vertical-align: middle;\n",
       "    }\n",
       "\n",
       "    .dataframe tbody tr th {\n",
       "        vertical-align: top;\n",
       "    }\n",
       "\n",
       "    .dataframe thead th {\n",
       "        text-align: right;\n",
       "    }\n",
       "</style>\n",
       "<table border=\"1\" class=\"dataframe\">\n",
       "  <thead>\n",
       "    <tr style=\"text-align: right;\">\n",
       "      <th></th>\n",
       "      <th>ID</th>\n",
       "      <th>timestamp</th>\n",
       "      <th>value</th>\n",
       "      <th>feature</th>\n",
       "    </tr>\n",
       "  </thead>\n",
       "  <tbody>\n",
       "    <tr>\n",
       "      <th>0</th>\n",
       "      <td>1</td>\n",
       "      <td>0</td>\n",
       "      <td>27.00000</td>\n",
       "      <td>0</td>\n",
       "    </tr>\n",
       "    <tr>\n",
       "      <th>1</th>\n",
       "      <td>1</td>\n",
       "      <td>107</td>\n",
       "      <td>26.00000</td>\n",
       "      <td>0</td>\n",
       "    </tr>\n",
       "    <tr>\n",
       "      <th>2</th>\n",
       "      <td>1</td>\n",
       "      <td>114</td>\n",
       "      <td>17.00000</td>\n",
       "      <td>0</td>\n",
       "    </tr>\n",
       "    <tr>\n",
       "      <th>3</th>\n",
       "      <td>1</td>\n",
       "      <td>0</td>\n",
       "      <td>71.49532</td>\n",
       "      <td>1</td>\n",
       "    </tr>\n",
       "    <tr>\n",
       "      <th>4</th>\n",
       "      <td>1</td>\n",
       "      <td>0</td>\n",
       "      <td>24.61000</td>\n",
       "      <td>2</td>\n",
       "    </tr>\n",
       "    <tr>\n",
       "      <th>...</th>\n",
       "      <td>...</td>\n",
       "      <td>...</td>\n",
       "      <td>...</td>\n",
       "      <td>...</td>\n",
       "    </tr>\n",
       "    <tr>\n",
       "      <th>9496</th>\n",
       "      <td>1660</td>\n",
       "      <td>118</td>\n",
       "      <td>30.00000</td>\n",
       "      <td>0</td>\n",
       "    </tr>\n",
       "    <tr>\n",
       "      <th>9497</th>\n",
       "      <td>1660</td>\n",
       "      <td>0</td>\n",
       "      <td>60.45918</td>\n",
       "      <td>1</td>\n",
       "    </tr>\n",
       "    <tr>\n",
       "      <th>9498</th>\n",
       "      <td>1660</td>\n",
       "      <td>0</td>\n",
       "      <td>19.72000</td>\n",
       "      <td>2</td>\n",
       "    </tr>\n",
       "    <tr>\n",
       "      <th>9499</th>\n",
       "      <td>1660</td>\n",
       "      <td>34</td>\n",
       "      <td>19.03000</td>\n",
       "      <td>2</td>\n",
       "    </tr>\n",
       "    <tr>\n",
       "      <th>9500</th>\n",
       "      <td>1660</td>\n",
       "      <td>118</td>\n",
       "      <td>19.03000</td>\n",
       "      <td>2</td>\n",
       "    </tr>\n",
       "  </tbody>\n",
       "</table>\n",
       "<p>9501 rows × 4 columns</p>\n",
       "</div>"
      ],
      "text/plain": [
       "        ID  timestamp     value  feature\n",
       "0        1          0  27.00000        0\n",
       "1        1        107  26.00000        0\n",
       "2        1        114  17.00000        0\n",
       "3        1          0  71.49532        1\n",
       "4        1          0  24.61000        2\n",
       "...    ...        ...       ...      ...\n",
       "9496  1660        118  30.00000        0\n",
       "9497  1660          0  60.45918        1\n",
       "9498  1660          0  19.72000        2\n",
       "9499  1660         34  19.03000        2\n",
       "9500  1660        118  19.03000        2\n",
       "\n",
       "[9501 rows x 4 columns]"
      ]
     },
     "execution_count": 51,
     "metadata": {},
     "output_type": "execute_result"
    }
   ],
   "source": [
    "df"
   ]
  },
  {
   "cell_type": "code",
   "execution_count": 23,
   "metadata": {},
   "outputs": [],
   "source": [
    "torch_tensor = torch.tensor(df.values)"
   ]
  },
  {
   "cell_type": "code",
   "execution_count": 25,
   "metadata": {},
   "outputs": [
    {
     "data": {
      "text/plain": [
       "torch.Size([9501, 4])"
      ]
     },
     "execution_count": 25,
     "metadata": {},
     "output_type": "execute_result"
    }
   ],
   "source": [
    "torch_tensor.shape"
   ]
  },
  {
   "cell_type": "code",
   "execution_count": 27,
   "metadata": {},
   "outputs": [
    {
     "data": {
      "text/plain": [
       "tensor([[  1.0000,   0.0000,  27.0000,   0.0000],\n",
       "        [  1.0000, 107.0000,  26.0000,   0.0000],\n",
       "        [  1.0000, 114.0000,  17.0000,   0.0000],\n",
       "        [  1.0000,   0.0000,  71.4953,   1.0000],\n",
       "        [  1.0000,   0.0000,  24.6100,   2.0000],\n",
       "        [  1.0000, 107.0000,  25.3900,   2.0000],\n",
       "        [  1.0000, 114.0000,  24.6100,   2.0000],\n",
       "        [  3.0000,  16.0000,  47.0000,   0.0000],\n",
       "        [  3.0000, 268.0000,  44.0000,   0.0000],\n",
       "        [  3.0000, 534.0000,  43.0000,   0.0000]], dtype=torch.float64)"
      ]
     },
     "execution_count": 27,
     "metadata": {},
     "output_type": "execute_result"
    }
   ],
   "source": [
    "torch_tensor[:10]"
   ]
  }
 ],
 "metadata": {
  "kernelspec": {
   "display_name": "Python 3.9.13 64-bit (microsoft store)",
   "language": "python",
   "name": "python3"
  },
  "language_info": {
   "codemirror_mode": {
    "name": "ipython",
    "version": 3
   },
   "file_extension": ".py",
   "mimetype": "text/x-python",
   "name": "python",
   "nbconvert_exporter": "python",
   "pygments_lexer": "ipython3",
   "version": "3.9.13"
  },
  "orig_nbformat": 4,
  "vscode": {
   "interpreter": {
    "hash": "e414a0fdfb09aafc4cc74cd5120d3e3d22191b60104af0a254b5a3ba4b1b2537"
   }
  }
 },
 "nbformat": 4,
 "nbformat_minor": 2
}
